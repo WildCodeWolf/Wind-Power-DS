{
 "cells": [
  {
   "cell_type": "markdown",
   "metadata": {},
   "source": [
    "# EDA\n",
    "\n",
    "--------------------------------------------------------------------------------"
   ]
  },
  {
   "cell_type": "code",
   "execution_count": 2,
   "metadata": {},
   "outputs": [],
   "source": [
    "# import packages\n",
    "import pandas as pd\n",
    "import matplotlib.pyplot as plt\n",
    "import seaborn as sns"
   ]
  },
  {
   "cell_type": "code",
   "execution_count": 3,
   "metadata": {},
   "outputs": [],
   "source": [
    "# set seaborn style\n",
    "sns.set_theme(context='paper', style='whitegrid')"
   ]
  },
  {
   "cell_type": "code",
   "execution_count": 4,
   "metadata": {},
   "outputs": [],
   "source": [
    "# load the data\n",
    "df1 = pd.read_csv('data/location1.csv')\n",
    "df2 = pd.read_csv('data/location2.csv')\n",
    "df3 = pd.read_csv('data/location3.csv')\n",
    "df4 = pd.read_csv('data/location4.csv')"
   ]
  },
  {
   "cell_type": "code",
   "execution_count": 5,
   "metadata": {},
   "outputs": [
    {
     "data": {
      "text/html": [
       "<div>\n",
       "<style scoped>\n",
       "    .dataframe tbody tr th:only-of-type {\n",
       "        vertical-align: middle;\n",
       "    }\n",
       "\n",
       "    .dataframe tbody tr th {\n",
       "        vertical-align: top;\n",
       "    }\n",
       "\n",
       "    .dataframe thead th {\n",
       "        text-align: right;\n",
       "    }\n",
       "</style>\n",
       "<table border=\"1\" class=\"dataframe\">\n",
       "  <thead>\n",
       "    <tr style=\"text-align: right;\">\n",
       "      <th></th>\n",
       "      <th>Time</th>\n",
       "      <th>temperature_2m</th>\n",
       "      <th>relativehumidity_2m</th>\n",
       "      <th>dewpoint_2m</th>\n",
       "      <th>windspeed_10m</th>\n",
       "      <th>windspeed_100m</th>\n",
       "      <th>winddirection_10m</th>\n",
       "      <th>winddirection_100m</th>\n",
       "      <th>windgusts_10m</th>\n",
       "      <th>Power</th>\n",
       "    </tr>\n",
       "  </thead>\n",
       "  <tbody>\n",
       "    <tr>\n",
       "      <th>0</th>\n",
       "      <td>2017-01-02 00:00:00</td>\n",
       "      <td>28.5</td>\n",
       "      <td>85</td>\n",
       "      <td>24.5</td>\n",
       "      <td>1.44</td>\n",
       "      <td>1.26</td>\n",
       "      <td>146</td>\n",
       "      <td>162</td>\n",
       "      <td>1.4</td>\n",
       "      <td>0.1635</td>\n",
       "    </tr>\n",
       "    <tr>\n",
       "      <th>1</th>\n",
       "      <td>2017-01-02 01:00:00</td>\n",
       "      <td>28.4</td>\n",
       "      <td>86</td>\n",
       "      <td>24.7</td>\n",
       "      <td>2.06</td>\n",
       "      <td>3.99</td>\n",
       "      <td>151</td>\n",
       "      <td>158</td>\n",
       "      <td>4.4</td>\n",
       "      <td>0.1424</td>\n",
       "    </tr>\n",
       "    <tr>\n",
       "      <th>2</th>\n",
       "      <td>2017-01-02 02:00:00</td>\n",
       "      <td>26.8</td>\n",
       "      <td>91</td>\n",
       "      <td>24.5</td>\n",
       "      <td>1.30</td>\n",
       "      <td>2.78</td>\n",
       "      <td>148</td>\n",
       "      <td>150</td>\n",
       "      <td>3.2</td>\n",
       "      <td>0.1214</td>\n",
       "    </tr>\n",
       "    <tr>\n",
       "      <th>3</th>\n",
       "      <td>2017-01-02 03:00:00</td>\n",
       "      <td>27.4</td>\n",
       "      <td>88</td>\n",
       "      <td>24.3</td>\n",
       "      <td>1.30</td>\n",
       "      <td>2.69</td>\n",
       "      <td>58</td>\n",
       "      <td>105</td>\n",
       "      <td>1.6</td>\n",
       "      <td>0.1003</td>\n",
       "    </tr>\n",
       "    <tr>\n",
       "      <th>4</th>\n",
       "      <td>2017-01-02 04:00:00</td>\n",
       "      <td>27.3</td>\n",
       "      <td>88</td>\n",
       "      <td>24.1</td>\n",
       "      <td>2.47</td>\n",
       "      <td>4.43</td>\n",
       "      <td>58</td>\n",
       "      <td>84</td>\n",
       "      <td>4.0</td>\n",
       "      <td>0.0793</td>\n",
       "    </tr>\n",
       "  </tbody>\n",
       "</table>\n",
       "</div>"
      ],
      "text/plain": [
       "                  Time  temperature_2m  relativehumidity_2m  dewpoint_2m  \\\n",
       "0  2017-01-02 00:00:00            28.5                   85         24.5   \n",
       "1  2017-01-02 01:00:00            28.4                   86         24.7   \n",
       "2  2017-01-02 02:00:00            26.8                   91         24.5   \n",
       "3  2017-01-02 03:00:00            27.4                   88         24.3   \n",
       "4  2017-01-02 04:00:00            27.3                   88         24.1   \n",
       "\n",
       "   windspeed_10m  windspeed_100m  winddirection_10m  winddirection_100m  \\\n",
       "0           1.44            1.26                146                 162   \n",
       "1           2.06            3.99                151                 158   \n",
       "2           1.30            2.78                148                 150   \n",
       "3           1.30            2.69                 58                 105   \n",
       "4           2.47            4.43                 58                  84   \n",
       "\n",
       "   windgusts_10m   Power  \n",
       "0            1.4  0.1635  \n",
       "1            4.4  0.1424  \n",
       "2            3.2  0.1214  \n",
       "3            1.6  0.1003  \n",
       "4            4.0  0.0793  "
      ]
     },
     "execution_count": 5,
     "metadata": {},
     "output_type": "execute_result"
    }
   ],
   "source": [
    "# check that reading the files worked as intended\n",
    "df1.head()"
   ]
  },
  {
   "cell_type": "code",
   "execution_count": 6,
   "metadata": {},
   "outputs": [
    {
     "name": "stdout",
     "output_type": "stream",
     "text": [
      "<class 'pandas.core.frame.DataFrame'>\n",
      "RangeIndex: 43800 entries, 0 to 43799\n",
      "Data columns (total 10 columns):\n",
      " #   Column               Non-Null Count  Dtype  \n",
      "---  ------               --------------  -----  \n",
      " 0   Time                 43800 non-null  object \n",
      " 1   temperature_2m       43800 non-null  float64\n",
      " 2   relativehumidity_2m  43800 non-null  int64  \n",
      " 3   dewpoint_2m          43800 non-null  float64\n",
      " 4   windspeed_10m        43800 non-null  float64\n",
      " 5   windspeed_100m       43800 non-null  float64\n",
      " 6   winddirection_10m    43800 non-null  int64  \n",
      " 7   winddirection_100m   43800 non-null  int64  \n",
      " 8   windgusts_10m        43800 non-null  float64\n",
      " 9   Power                43800 non-null  float64\n",
      "dtypes: float64(6), int64(3), object(1)\n",
      "memory usage: 3.3+ MB\n"
     ]
    }
   ],
   "source": [
    "df1.info()"
   ]
  },
  {
   "cell_type": "code",
   "execution_count": 7,
   "metadata": {},
   "outputs": [
    {
     "data": {
      "text/html": [
       "<div>\n",
       "<style scoped>\n",
       "    .dataframe tbody tr th:only-of-type {\n",
       "        vertical-align: middle;\n",
       "    }\n",
       "\n",
       "    .dataframe tbody tr th {\n",
       "        vertical-align: top;\n",
       "    }\n",
       "\n",
       "    .dataframe thead th {\n",
       "        text-align: right;\n",
       "    }\n",
       "</style>\n",
       "<table border=\"1\" class=\"dataframe\">\n",
       "  <thead>\n",
       "    <tr style=\"text-align: right;\">\n",
       "      <th></th>\n",
       "      <th>temperature_2m</th>\n",
       "      <th>relativehumidity_2m</th>\n",
       "      <th>dewpoint_2m</th>\n",
       "      <th>windspeed_10m</th>\n",
       "      <th>windspeed_100m</th>\n",
       "      <th>winddirection_10m</th>\n",
       "      <th>winddirection_100m</th>\n",
       "      <th>windgusts_10m</th>\n",
       "      <th>Power</th>\n",
       "    </tr>\n",
       "  </thead>\n",
       "  <tbody>\n",
       "    <tr>\n",
       "      <th>count</th>\n",
       "      <td>43800.000000</td>\n",
       "      <td>43800.000000</td>\n",
       "      <td>43800.000000</td>\n",
       "      <td>43800.000000</td>\n",
       "      <td>43800.000000</td>\n",
       "      <td>43800.000000</td>\n",
       "      <td>43800.000000</td>\n",
       "      <td>43800.000000</td>\n",
       "      <td>43800.000000</td>\n",
       "    </tr>\n",
       "    <tr>\n",
       "      <th>mean</th>\n",
       "      <td>47.862911</td>\n",
       "      <td>72.288744</td>\n",
       "      <td>38.569308</td>\n",
       "      <td>3.591147</td>\n",
       "      <td>6.284431</td>\n",
       "      <td>203.637329</td>\n",
       "      <td>203.343676</td>\n",
       "      <td>7.771795</td>\n",
       "      <td>0.405385</td>\n",
       "    </tr>\n",
       "    <tr>\n",
       "      <th>std</th>\n",
       "      <td>19.453691</td>\n",
       "      <td>16.852287</td>\n",
       "      <td>18.772110</td>\n",
       "      <td>1.649318</td>\n",
       "      <td>2.685216</td>\n",
       "      <td>96.371262</td>\n",
       "      <td>97.959852</td>\n",
       "      <td>3.569147</td>\n",
       "      <td>0.288322</td>\n",
       "    </tr>\n",
       "    <tr>\n",
       "      <th>min</th>\n",
       "      <td>-14.400000</td>\n",
       "      <td>18.000000</td>\n",
       "      <td>-17.100000</td>\n",
       "      <td>0.000000</td>\n",
       "      <td>0.100000</td>\n",
       "      <td>1.000000</td>\n",
       "      <td>0.000000</td>\n",
       "      <td>0.500000</td>\n",
       "      <td>0.000000</td>\n",
       "    </tr>\n",
       "    <tr>\n",
       "      <th>25%</th>\n",
       "      <td>32.100000</td>\n",
       "      <td>60.000000</td>\n",
       "      <td>24.300000</td>\n",
       "      <td>2.410000</td>\n",
       "      <td>4.380000</td>\n",
       "      <td>132.000000</td>\n",
       "      <td>130.000000</td>\n",
       "      <td>5.000000</td>\n",
       "      <td>0.148900</td>\n",
       "    </tr>\n",
       "    <tr>\n",
       "      <th>50%</th>\n",
       "      <td>47.300000</td>\n",
       "      <td>74.000000</td>\n",
       "      <td>38.100000</td>\n",
       "      <td>3.300000</td>\n",
       "      <td>6.080000</td>\n",
       "      <td>225.000000</td>\n",
       "      <td>226.000000</td>\n",
       "      <td>7.200000</td>\n",
       "      <td>0.347650</td>\n",
       "    </tr>\n",
       "    <tr>\n",
       "      <th>75%</th>\n",
       "      <td>64.500000</td>\n",
       "      <td>86.000000</td>\n",
       "      <td>54.700000</td>\n",
       "      <td>4.590000</td>\n",
       "      <td>7.990000</td>\n",
       "      <td>277.000000</td>\n",
       "      <td>278.000000</td>\n",
       "      <td>10.000000</td>\n",
       "      <td>0.659600</td>\n",
       "    </tr>\n",
       "    <tr>\n",
       "      <th>max</th>\n",
       "      <td>94.100000</td>\n",
       "      <td>100.000000</td>\n",
       "      <td>76.300000</td>\n",
       "      <td>13.450000</td>\n",
       "      <td>20.650000</td>\n",
       "      <td>360.000000</td>\n",
       "      <td>360.000000</td>\n",
       "      <td>29.200000</td>\n",
       "      <td>0.991300</td>\n",
       "    </tr>\n",
       "  </tbody>\n",
       "</table>\n",
       "</div>"
      ],
      "text/plain": [
       "       temperature_2m  relativehumidity_2m   dewpoint_2m  windspeed_10m  \\\n",
       "count    43800.000000         43800.000000  43800.000000   43800.000000   \n",
       "mean        47.862911            72.288744     38.569308       3.591147   \n",
       "std         19.453691            16.852287     18.772110       1.649318   \n",
       "min        -14.400000            18.000000    -17.100000       0.000000   \n",
       "25%         32.100000            60.000000     24.300000       2.410000   \n",
       "50%         47.300000            74.000000     38.100000       3.300000   \n",
       "75%         64.500000            86.000000     54.700000       4.590000   \n",
       "max         94.100000           100.000000     76.300000      13.450000   \n",
       "\n",
       "       windspeed_100m  winddirection_10m  winddirection_100m  windgusts_10m  \\\n",
       "count    43800.000000       43800.000000        43800.000000   43800.000000   \n",
       "mean         6.284431         203.637329          203.343676       7.771795   \n",
       "std          2.685216          96.371262           97.959852       3.569147   \n",
       "min          0.100000           1.000000            0.000000       0.500000   \n",
       "25%          4.380000         132.000000          130.000000       5.000000   \n",
       "50%          6.080000         225.000000          226.000000       7.200000   \n",
       "75%          7.990000         277.000000          278.000000      10.000000   \n",
       "max         20.650000         360.000000          360.000000      29.200000   \n",
       "\n",
       "              Power  \n",
       "count  43800.000000  \n",
       "mean       0.405385  \n",
       "std        0.288322  \n",
       "min        0.000000  \n",
       "25%        0.148900  \n",
       "50%        0.347650  \n",
       "75%        0.659600  \n",
       "max        0.991300  "
      ]
     },
     "execution_count": 7,
     "metadata": {},
     "output_type": "execute_result"
    }
   ],
   "source": [
    "df1.describe()"
   ]
  },
  {
   "cell_type": "markdown",
   "metadata": {},
   "source": [
    "Everything seems to be in order with the first dataframe.\n",
    "\n",
    "## Missing Values"
   ]
  },
  {
   "cell_type": "code",
   "execution_count": 8,
   "metadata": {},
   "outputs": [
    {
     "data": {
      "text/plain": [
       "Time                   0\n",
       "temperature_2m         0\n",
       "relativehumidity_2m    0\n",
       "dewpoint_2m            0\n",
       "windspeed_10m          0\n",
       "windspeed_100m         0\n",
       "winddirection_10m      0\n",
       "winddirection_100m     0\n",
       "windgusts_10m          0\n",
       "Power                  0\n",
       "dtype: int64"
      ]
     },
     "execution_count": 8,
     "metadata": {},
     "output_type": "execute_result"
    }
   ],
   "source": [
    "df1.isnull().sum()"
   ]
  },
  {
   "cell_type": "code",
   "execution_count": 9,
   "metadata": {},
   "outputs": [
    {
     "data": {
      "text/plain": [
       "Time                   0\n",
       "temperature_2m         0\n",
       "relativehumidity_2m    0\n",
       "dewpoint_2m            0\n",
       "windspeed_10m          0\n",
       "windspeed_100m         0\n",
       "winddirection_10m      0\n",
       "winddirection_100m     0\n",
       "windgusts_10m          0\n",
       "Power                  0\n",
       "dtype: int64"
      ]
     },
     "execution_count": 9,
     "metadata": {},
     "output_type": "execute_result"
    }
   ],
   "source": [
    "df2.isnull().sum()"
   ]
  },
  {
   "cell_type": "code",
   "execution_count": 10,
   "metadata": {},
   "outputs": [
    {
     "data": {
      "text/plain": [
       "Time                   0\n",
       "temperature_2m         0\n",
       "relativehumidity_2m    0\n",
       "dewpoint_2m            0\n",
       "windspeed_10m          0\n",
       "windspeed_100m         0\n",
       "winddirection_10m      0\n",
       "winddirection_100m     0\n",
       "windgusts_10m          0\n",
       "Power                  0\n",
       "dtype: int64"
      ]
     },
     "execution_count": 10,
     "metadata": {},
     "output_type": "execute_result"
    }
   ],
   "source": [
    "df3.isnull().sum()"
   ]
  },
  {
   "cell_type": "code",
   "execution_count": 11,
   "metadata": {},
   "outputs": [
    {
     "data": {
      "text/plain": [
       "Time                   0\n",
       "temperature_2m         0\n",
       "relativehumidity_2m    0\n",
       "dewpoint_2m            0\n",
       "windspeed_10m          0\n",
       "windspeed_100m         0\n",
       "winddirection_10m      0\n",
       "winddirection_100m     0\n",
       "windgusts_10m          0\n",
       "Power                  0\n",
       "dtype: int64"
      ]
     },
     "execution_count": 11,
     "metadata": {},
     "output_type": "execute_result"
    }
   ],
   "source": [
    "df4.isnull().sum()"
   ]
  },
  {
   "cell_type": "markdown",
   "metadata": {},
   "source": [
    "None of the four dataframes misses entries.\n",
    "\n",
    "## Duplicates"
   ]
  },
  {
   "cell_type": "code",
   "execution_count": 12,
   "metadata": {},
   "outputs": [
    {
     "data": {
      "text/plain": [
       "0"
      ]
     },
     "execution_count": 12,
     "metadata": {},
     "output_type": "execute_result"
    }
   ],
   "source": [
    "df1.duplicated().sum()"
   ]
  },
  {
   "cell_type": "code",
   "execution_count": 13,
   "metadata": {},
   "outputs": [
    {
     "data": {
      "text/plain": [
       "0"
      ]
     },
     "execution_count": 13,
     "metadata": {},
     "output_type": "execute_result"
    }
   ],
   "source": [
    "df2.duplicated().sum()"
   ]
  },
  {
   "cell_type": "code",
   "execution_count": 14,
   "metadata": {},
   "outputs": [
    {
     "data": {
      "text/plain": [
       "0"
      ]
     },
     "execution_count": 14,
     "metadata": {},
     "output_type": "execute_result"
    }
   ],
   "source": [
    "df3.duplicated().sum()"
   ]
  },
  {
   "cell_type": "code",
   "execution_count": 15,
   "metadata": {},
   "outputs": [
    {
     "data": {
      "text/plain": [
       "0"
      ]
     },
     "execution_count": 15,
     "metadata": {},
     "output_type": "execute_result"
    }
   ],
   "source": [
    "df4.duplicated().sum()"
   ]
  },
  {
   "cell_type": "markdown",
   "metadata": {},
   "source": [
    "None of the four dataframes contains duplicated entries.\n",
    "\n",
    "## Time Column and Index\n",
    "\n",
    "The `Time` column is the only `object`-type column in our dataframes.\n",
    "Let's convert it into a proper `datetime` type."
   ]
  },
  {
   "cell_type": "code",
   "execution_count": 16,
   "metadata": {},
   "outputs": [],
   "source": [
    "for frame in [df1, df2, df3, df4]:\n",
    "    frame['Time'] = pd.to_datetime(frame['Time'])"
   ]
  },
  {
   "cell_type": "code",
   "execution_count": 17,
   "metadata": {},
   "outputs": [
    {
     "name": "stdout",
     "output_type": "stream",
     "text": [
      "<class 'pandas.core.frame.DataFrame'>\n",
      "RangeIndex: 43800 entries, 0 to 43799\n",
      "Data columns (total 10 columns):\n",
      " #   Column               Non-Null Count  Dtype         \n",
      "---  ------               --------------  -----         \n",
      " 0   Time                 43800 non-null  datetime64[ns]\n",
      " 1   temperature_2m       43800 non-null  float64       \n",
      " 2   relativehumidity_2m  43800 non-null  int64         \n",
      " 3   dewpoint_2m          43800 non-null  float64       \n",
      " 4   windspeed_10m        43800 non-null  float64       \n",
      " 5   windspeed_100m       43800 non-null  float64       \n",
      " 6   winddirection_10m    43800 non-null  int64         \n",
      " 7   winddirection_100m   43800 non-null  int64         \n",
      " 8   windgusts_10m        43800 non-null  float64       \n",
      " 9   Power                43800 non-null  float64       \n",
      "dtypes: datetime64[ns](1), float64(6), int64(3)\n",
      "memory usage: 3.3 MB\n"
     ]
    }
   ],
   "source": [
    "df1.info()"
   ]
  },
  {
   "cell_type": "markdown",
   "metadata": {},
   "source": [
    "Also, because we want to compare the locations with each other, let's create\n",
    "a combined dataframe."
   ]
  },
  {
   "cell_type": "code",
   "execution_count": 18,
   "metadata": {},
   "outputs": [],
   "source": [
    "df1['Location'] = 'Location 1'\n",
    "df2['Location'] = 'Location 2'\n",
    "df3['Location'] = 'Location 3'\n",
    "df4['Location'] = 'Location 4'\n",
    "df = pd.concat([\n",
    "    df1,\n",
    "    df2,\n",
    "    df3,\n",
    "    df4\n",
    "], axis=0).reset_index()"
   ]
  },
  {
   "cell_type": "markdown",
   "metadata": {},
   "source": [
    "## Correlations\n",
    "\n",
    "Our ultimate goal is going to be making predictions on the `Power` output.\n",
    "So let's have a quick check on its correlation coefficient with the other features."
   ]
  },
  {
   "cell_type": "code",
   "execution_count": 21,
   "metadata": {},
   "outputs": [],
   "source": [
    "corr1 = pd.DataFrame(df1.corr(numeric_only=True)['Power'].sort_values(ascending=False)[1:]).reset_index()\n",
    "corr2 = pd.DataFrame(df2.corr(numeric_only=True)['Power'].sort_values(ascending=False)[1:]).reset_index()\n",
    "corr3 = pd.DataFrame(df3.corr(numeric_only=True)['Power'].sort_values(ascending=False)[1:]).reset_index()\n",
    "corr4 = pd.DataFrame(df4.corr(numeric_only=True)['Power'].sort_values(ascending=False)[1:]).reset_index()\n"
   ]
  },
  {
   "cell_type": "code",
   "execution_count": 22,
   "metadata": {},
   "outputs": [],
   "source": [
    "corr1['Location'] = 'Location 1'\n",
    "corr2['Location'] = 'Location 2'\n",
    "corr3['Location'] = 'Location 3'\n",
    "corr4['Location'] = 'Location 4'"
   ]
  },
  {
   "cell_type": "code",
   "execution_count": 23,
   "metadata": {},
   "outputs": [],
   "source": [
    "corr_all = pd.concat([\n",
    "    corr1,\n",
    "    corr2,\n",
    "    corr3,\n",
    "    corr4\n",
    "], axis=0)"
   ]
  },
  {
   "cell_type": "code",
   "execution_count": 25,
   "metadata": {},
   "outputs": [
    {
     "data": {
      "image/png": "[encoded data removed]",
      "text/plain": [
       "<Figure size 640x480 with 1 Axes>"
      ]
     },
     "metadata": {},
     "output_type": "display_data"
    }
   ],
   "source": [
    "sns.barplot(corr_all.sort_values('Power', ascending=False), x='Power', y='index', hue='Location')\n",
    "plt.title('Correlation Coefficients with Respect to `Power`')\n",
    "plt.xlabel('Correlation Coefficient')\n",
    "plt.ylabel('Feature')\n",
    "plt.show()"
   ]
  },
  {
   "cell_type": "markdown",
   "metadata": {},
   "source": [
    "All four locations show a similar influence of each individual factor, though\n",
    "there are notable differences between said locations.  For instance, location\n",
    "4 benefits far more from the wind parameters than, say location 3, although\n",
    "the influcence of temperature and humidity seems to be very similar.\n",
    "\n",
    "There can be many explanations for that; from different hardware, age, state of\n",
    "maintenance over sensor reliability to actual demand of the power grid and\n",
    "maybe even the decision to turn individual wind turbines off temporarily.\n",
    "We have no actual information on those four locations other than what we find\n",
    "in the data files themselves.\n",
    "\n",
    "## Power Levels over Time\n",
    "\n",
    "There is a lot of data to display here; a simple line plot doesn't reveal\n",
    "anything useful just like that:"
   ]
  },
  {
   "cell_type": "code",
   "execution_count": 51,
   "metadata": {},
   "outputs": [
    {
     "data": {
      "image/png": "[encoded data removed]",
      "text/plain": [
       "<Figure size 640x480 with 1 Axes>"
      ]
     },
     "metadata": {},
     "output_type": "display_data"
    }
   ],
   "source": [
    "sns.lineplot(df1.Power)\n",
    "plt.title('Location 1: Power over Time')\n",
    "plt.show()"
   ]
  },
  {
   "cell_type": "markdown",
   "metadata": {},
   "source": [
    "Instead, we should try to compare the locations over small time periods like\n",
    "sesonal power output, maybe day-night cycles, have a look at the average power\n",
    "output and so on."
   ]
  },
  {
   "cell_type": "markdown",
   "metadata": {},
   "source": [
    "For mapping the dime data to a season, we'll use a very simple mapping.\n",
    "Since we're looking at power plants located in Germany, we'll apply seasons\n",
    "as they occur on the northern hemisphere."
   ]
  },
  {
   "cell_type": "code",
   "execution_count": 35,
   "metadata": {},
   "outputs": [],
   "source": [
    "def season(time):\n",
    "    match time.month, time.day:\n",
    "        case 3, below_21 if below_21 < 21:\n",
    "            return 'Winter'\n",
    "        case spring_month, _ if spring_month in [3, 4, 5]:\n",
    "            return 'Spring'\n",
    "        case 6, below_21 if below_21 < 21:\n",
    "            return 'Spring'\n",
    "        case summer_month, _ if summer_month in [6, 7, 8]:\n",
    "            return 'Summer'\n",
    "        case 9, below_21 if below_21 < 21:\n",
    "            return 'Summer'\n",
    "        case fall_month, _ if fall_month in [9, 10, 11]:\n",
    "            return 'Fall'\n",
    "        case 12, below_21 if below_21 < 21:\n",
    "            return 'Fall'\n",
    "        case winter_month, _ if winter_month in [1, 2, 12]:\n",
    "            return 'Winter'"
   ]
  },
  {
   "cell_type": "markdown",
   "metadata": {},
   "source": [
    "For the time of day, it would be interesting to see not only day and night,\n",
    "but also business periods.  Thus, we introduce a few more categories for that:"
   ]
  },
  {
   "cell_type": "code",
   "execution_count": 47,
   "metadata": {},
   "outputs": [],
   "source": [
    "def time_of_day(time):\n",
    "    match time.hour:\n",
    "        case business if 9 <= business and business <= 17:\n",
    "            return '9 to 5'\n",
    "        case afternoon if 17 <= afternoon and afternoon <= 22:\n",
    "            return 'Afternoon'\n",
    "        case night if 22 <= night or night <= 5:\n",
    "            return 'Night'\n",
    "        case morning if 5 <= morning and morning <= 9:\n",
    "            return 'Morning'"
   ]
  },
  {
   "cell_type": "markdown",
   "metadata": {},
   "source": [
    "Of course, weekends play a similarly important role, as the `'9 to 5'` period\n",
    "has less of a business-related role on those."
   ]
  },
  {
   "cell_type": "code",
   "execution_count": 49,
   "metadata": {},
   "outputs": [],
   "source": [
    "def is_weekend(time): return time.weekday() > 4"
   ]
  },
  {
   "cell_type": "markdown",
   "metadata": {},
   "source": [
    "And so would vacation periods in Germany.  But adding those as well would\n",
    "go beyond this exercise, so we don't consider those in our analysis.\n",
    "\n",
    "Putting it all together, we create a few new columns:"
   ]
  },
  {
   "cell_type": "code",
   "execution_count": 50,
   "metadata": {},
   "outputs": [],
   "source": [
    "df['Season'] = df.Time.map(season)"
   ]
  },
  {
   "cell_type": "code",
   "execution_count": 51,
   "metadata": {},
   "outputs": [],
   "source": [
    "df['Time of Day'] = df.Time.map(time_of_day)"
   ]
  },
  {
   "cell_type": "code",
   "execution_count": 52,
   "metadata": {},
   "outputs": [],
   "source": [
    "df['Weekend?'] = df.Time.map(is_weekend)"
   ]
  },
  {
   "cell_type": "code",
   "execution_count": 57,
   "metadata": {},
   "outputs": [],
   "source": [
    "df['Year'] = df.Time.dt.year"
   ]
  },
  {
   "cell_type": "code",
   "execution_count": 58,
   "metadata": {},
   "outputs": [],
   "source": [
    "df['Month'] = df.Time.dt.month"
   ]
  },
  {
   "cell_type": "markdown",
   "metadata": {},
   "source": [
    "We can use those features to compare, say, the average power production\n",
    "in summer 2020:"
   ]
  },
  {
   "cell_type": "code",
   "execution_count": 75,
   "metadata": {},
   "outputs": [],
   "source": [
    "example = df[(df.Year==2020) & (df.Season=='Summer')].groupby(['Time of Day', 'Location', 'Month']).mean('Power')['Power'].reset_index()"
   ]
  },
  {
   "cell_type": "code",
   "execution_count": 87,
   "metadata": {},
   "outputs": [
    {
     "data": {
      "image/png": "[encoded data removed]",
      "text/plain": [
       "<Figure size 640x480 with 4 Axes>"
      ]
     },
     "metadata": {},
     "output_type": "display_data"
    }
   ],
   "source": [
    "plt.subplots(2, 2, sharex=True, sharey=True)\n",
    "for idx, tod in enumerate(example['Time of Day'].unique()):\n",
    "    plt.subplot(2, 2, idx+1)\n",
    "    sns.barplot(example[example['Time of Day']==tod], x='Month', y='Power', hue='Location')\n",
    "    plt.xlabel('Month')\n",
    "    plt.ylabel('Average Power Production')\n",
    "    plt.legend()\n",
    "    plt.title(f'Power Production in Summer 2020 ({tod})')\n",
    "plt.show()"
   ]
  },
  {
   "cell_type": "markdown",
   "metadata": {},
   "source": [
    "Now that in itself is neither interesting nor insightful.  At least so long\n",
    "as we don't generalize this observation and create a more complete overview."
   ]
  },
  {
   "cell_type": "code",
   "execution_count": null,
   "metadata": {},
   "outputs": [],
   "source": []
  }
 ],
 "metadata": {
  "kernelspec": {
   "display_name": ".venv",
   "language": "python",
   "name": "python3"
  },
  "language_info": {
   "codemirror_mode": {
    "name": "ipython",
    "version": 3
   },
   "file_extension": ".py",
   "mimetype": "text/x-python",
   "name": "python",
   "nbconvert_exporter": "python",
   "pygments_lexer": "ipython3",
   "version": "3.11.3"
  }
 },
 "nbformat": 4,
 "nbformat_minor": 2
}
