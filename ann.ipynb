{
 "cells": [
  {
   "cell_type": "markdown",
   "metadata": {},
   "source": [
    "Back to the [Random Forest notebook](./random-forest.ipynb)\n",
    "\n",
    "Back to the [ML notebook](./ml.ipynb)\n",
    "\n",
    "To the [README](./README.md)\n",
    "\n",
    "--------------------------------------------------------------------------------\n",
    "\n",
    "# Artificial Neural Network"
   ]
  },
  {
   "cell_type": "code",
   "execution_count": null,
   "metadata": {},
   "outputs": [],
   "source": []
  }
 ],
 "metadata": {
  "language_info": {
   "name": "python"
  }
 },
 "nbformat": 4,
 "nbformat_minor": 2
}
