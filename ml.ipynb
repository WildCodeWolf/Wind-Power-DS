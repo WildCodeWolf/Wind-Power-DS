{
 "cells": [
  {
   "cell_type": "markdown",
   "metadata": {},
   "source": [
    "Back to the [EDA Notebook](./eda.ipynb)\n",
    "\n",
    "To the [README](./README.md)\n",
    "\n",
    "--------------------------------------------------------------------------------\n",
    "\n",
    "# ML"
   ]
  },
  {
   "cell_type": "markdown",
   "metadata": {},
   "source": [
    "This notebook serves more as an index for a number of smaller notebooks, each\n",
    "covering its own model or approach.\n",
    "\n",
    "Feel free to use the following links to navigate to the one(s) you're interested\n",
    "in:\n",
    "\n",
    "- [Random Forest](./random-forest.ipynb)"
   ]
  }
 ],
 "metadata": {
  "kernelspec": {
   "display_name": ".venv",
   "language": "python",
   "name": "python3"
  },
  "language_info": {
   "name": "python",
   "version": "3.11.3"
  }
 },
 "nbformat": 4,
 "nbformat_minor": 2
}
